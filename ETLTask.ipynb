{
  "nbformat": 4,
  "nbformat_minor": 0,
  "metadata": {
    "colab": {
      "provenance": [],
      "authorship_tag": "ABX9TyMvy017QMchqqXei6pM2rwo",
      "include_colab_link": true
    },
    "kernelspec": {
      "name": "python3",
      "display_name": "Python 3"
    },
    "language_info": {
      "name": "python"
    }
  },
  "cells": [
    {
      "cell_type": "markdown",
      "metadata": {
        "id": "view-in-github",
        "colab_type": "text"
      },
      "source": [
        "<a href=\"https://colab.research.google.com/github/hafizmursidd/DataEngineer_DQLab/blob/main/ETLTask.ipynb\" target=\"_parent\"><img src=\"https://colab.research.google.com/assets/colab-badge.svg\" alt=\"Open In Colab\"/></a>"
      ]
    },
    {
      "cell_type": "markdown",
      "source": [
        "Import data"
      ],
      "metadata": {
        "id": "jD5vOIfsi0oX"
      }
    },
    {
      "cell_type": "code",
      "execution_count": 107,
      "metadata": {
        "id": "tWJe5GfqibUd"
      },
      "outputs": [],
      "source": [
        "import pandas as pd\n",
        "\n",
        "linkURL=\"https://storage.googleapis.com/dqlab-dataset/dqthon-participants.csv\"\n",
        "df = pd.read_csv(linkURL)"
      ]
    },
    {
      "cell_type": "code",
      "source": [
        "df.columns"
      ],
      "metadata": {
        "colab": {
          "base_uri": "https://localhost:8080/"
        },
        "id": "rp_ci7ZFkXu9",
        "outputId": "817cb12a-65eb-4d17-c9b5-ff32c9d42502"
      },
      "execution_count": 108,
      "outputs": [
        {
          "output_type": "execute_result",
          "data": {
            "text/plain": [
              "Index(['participant_id', 'first_name', 'last_name', 'birth_date', 'address',\n",
              "       'phone_number', 'country', 'institute', 'occupation', 'register_time'],\n",
              "      dtype='object')"
            ]
          },
          "metadata": {},
          "execution_count": 108
        }
      ]
    },
    {
      "cell_type": "code",
      "source": [
        "df.head()"
      ],
      "metadata": {
        "colab": {
          "base_uri": "https://localhost:8080/",
          "height": 372
        },
        "id": "dJbzyYZIi97y",
        "outputId": "4f84c83f-09b6-4302-eb96-8f3d2f5c18a2"
      },
      "execution_count": 109,
      "outputs": [
        {
          "output_type": "execute_result",
          "data": {
            "text/plain": [
              "                         participant_id first_name   last_name   birth_date  \\\n",
              "0  bd9b6f88-b84f-4c4d-90f8-b67fe2f1a29a      Citra  Nurdiyanti  05 Feb 1991   \n",
              "1  7dfe3391-6f40-47b6-b4db-0c76ebaf5fc3       Aris    Setiawan  11 Jan 1993   \n",
              "2  19582d7f-b824-4fe5-a517-d5bf573fc768   Cornelia   Handayani  31 Jul 1993   \n",
              "3  aeb6d817-25f3-4867-8a74-8d92e0a0f633      Soleh      Rajasa  04 Nov 1991   \n",
              "4  1fdabdd9-5444-4c97-87b2-fe8833ad0d27       Vivi      Astuti  22 Jan 2003   \n",
              "\n",
              "                                             address        phone_number  \\\n",
              "0           Gg. Monginsidi No. 08\\nMedan, Aceh 80734     (0151) 081 2706   \n",
              "1     Gg. Rajawali Timur No. 7\\nPrabumulih, MA 09434  +62 (036) 461 7027   \n",
              "2             Jalan Kebonjati No. 0\\nAmbon, SS 57739        089 833 6695   \n",
              "3    Jl. Yos Sudarso No. 109\\nLubuklinggau, SR 76156  +62 (418) 329-4756   \n",
              "4  Jalan Gardujati No. 53\\nKediri, Sulawesi Tenga...          0812511835   \n",
              "\n",
              "       country                  institute                      occupation  \\\n",
              "0      Georgia       UD Prakasa Mandasari  Business Intelligence Engineer   \n",
              "1  Korea Utara     Universitas Diponegoro               Frontend Engineer   \n",
              "2       Komoro   UD Hardiansyah Puspasari                Business Analyst   \n",
              "3      Eritrea  Perum Tampubolon Yuliarti                 DevOps Engineer   \n",
              "4     Aljazair     PT Hardiansyah Rahimah                    Data Analyst   \n",
              "\n",
              "   register_time  \n",
              "0   1.617634e+09  \n",
              "1   1.617634e+09  \n",
              "2   1.617634e+09  \n",
              "3   1.617634e+09  \n",
              "4   1.617634e+09  "
            ],
            "text/html": [
              "\n",
              "  <div id=\"df-52b91661-0cd6-40d8-9ec6-f8fa42af1bfc\">\n",
              "    <div class=\"colab-df-container\">\n",
              "      <div>\n",
              "<style scoped>\n",
              "    .dataframe tbody tr th:only-of-type {\n",
              "        vertical-align: middle;\n",
              "    }\n",
              "\n",
              "    .dataframe tbody tr th {\n",
              "        vertical-align: top;\n",
              "    }\n",
              "\n",
              "    .dataframe thead th {\n",
              "        text-align: right;\n",
              "    }\n",
              "</style>\n",
              "<table border=\"1\" class=\"dataframe\">\n",
              "  <thead>\n",
              "    <tr style=\"text-align: right;\">\n",
              "      <th></th>\n",
              "      <th>participant_id</th>\n",
              "      <th>first_name</th>\n",
              "      <th>last_name</th>\n",
              "      <th>birth_date</th>\n",
              "      <th>address</th>\n",
              "      <th>phone_number</th>\n",
              "      <th>country</th>\n",
              "      <th>institute</th>\n",
              "      <th>occupation</th>\n",
              "      <th>register_time</th>\n",
              "    </tr>\n",
              "  </thead>\n",
              "  <tbody>\n",
              "    <tr>\n",
              "      <th>0</th>\n",
              "      <td>bd9b6f88-b84f-4c4d-90f8-b67fe2f1a29a</td>\n",
              "      <td>Citra</td>\n",
              "      <td>Nurdiyanti</td>\n",
              "      <td>05 Feb 1991</td>\n",
              "      <td>Gg. Monginsidi No. 08\\nMedan, Aceh 80734</td>\n",
              "      <td>(0151) 081 2706</td>\n",
              "      <td>Georgia</td>\n",
              "      <td>UD Prakasa Mandasari</td>\n",
              "      <td>Business Intelligence Engineer</td>\n",
              "      <td>1.617634e+09</td>\n",
              "    </tr>\n",
              "    <tr>\n",
              "      <th>1</th>\n",
              "      <td>7dfe3391-6f40-47b6-b4db-0c76ebaf5fc3</td>\n",
              "      <td>Aris</td>\n",
              "      <td>Setiawan</td>\n",
              "      <td>11 Jan 1993</td>\n",
              "      <td>Gg. Rajawali Timur No. 7\\nPrabumulih, MA 09434</td>\n",
              "      <td>+62 (036) 461 7027</td>\n",
              "      <td>Korea Utara</td>\n",
              "      <td>Universitas Diponegoro</td>\n",
              "      <td>Frontend Engineer</td>\n",
              "      <td>1.617634e+09</td>\n",
              "    </tr>\n",
              "    <tr>\n",
              "      <th>2</th>\n",
              "      <td>19582d7f-b824-4fe5-a517-d5bf573fc768</td>\n",
              "      <td>Cornelia</td>\n",
              "      <td>Handayani</td>\n",
              "      <td>31 Jul 1993</td>\n",
              "      <td>Jalan Kebonjati No. 0\\nAmbon, SS 57739</td>\n",
              "      <td>089 833 6695</td>\n",
              "      <td>Komoro</td>\n",
              "      <td>UD Hardiansyah Puspasari</td>\n",
              "      <td>Business Analyst</td>\n",
              "      <td>1.617634e+09</td>\n",
              "    </tr>\n",
              "    <tr>\n",
              "      <th>3</th>\n",
              "      <td>aeb6d817-25f3-4867-8a74-8d92e0a0f633</td>\n",
              "      <td>Soleh</td>\n",
              "      <td>Rajasa</td>\n",
              "      <td>04 Nov 1991</td>\n",
              "      <td>Jl. Yos Sudarso No. 109\\nLubuklinggau, SR 76156</td>\n",
              "      <td>+62 (418) 329-4756</td>\n",
              "      <td>Eritrea</td>\n",
              "      <td>Perum Tampubolon Yuliarti</td>\n",
              "      <td>DevOps Engineer</td>\n",
              "      <td>1.617634e+09</td>\n",
              "    </tr>\n",
              "    <tr>\n",
              "      <th>4</th>\n",
              "      <td>1fdabdd9-5444-4c97-87b2-fe8833ad0d27</td>\n",
              "      <td>Vivi</td>\n",
              "      <td>Astuti</td>\n",
              "      <td>22 Jan 2003</td>\n",
              "      <td>Jalan Gardujati No. 53\\nKediri, Sulawesi Tenga...</td>\n",
              "      <td>0812511835</td>\n",
              "      <td>Aljazair</td>\n",
              "      <td>PT Hardiansyah Rahimah</td>\n",
              "      <td>Data Analyst</td>\n",
              "      <td>1.617634e+09</td>\n",
              "    </tr>\n",
              "  </tbody>\n",
              "</table>\n",
              "</div>\n",
              "      <button class=\"colab-df-convert\" onclick=\"convertToInteractive('df-52b91661-0cd6-40d8-9ec6-f8fa42af1bfc')\"\n",
              "              title=\"Convert this dataframe to an interactive table.\"\n",
              "              style=\"display:none;\">\n",
              "        \n",
              "  <svg xmlns=\"http://www.w3.org/2000/svg\" height=\"24px\"viewBox=\"0 0 24 24\"\n",
              "       width=\"24px\">\n",
              "    <path d=\"M0 0h24v24H0V0z\" fill=\"none\"/>\n",
              "    <path d=\"M18.56 5.44l.94 2.06.94-2.06 2.06-.94-2.06-.94-.94-2.06-.94 2.06-2.06.94zm-11 1L8.5 8.5l.94-2.06 2.06-.94-2.06-.94L8.5 2.5l-.94 2.06-2.06.94zm10 10l.94 2.06.94-2.06 2.06-.94-2.06-.94-.94-2.06-.94 2.06-2.06.94z\"/><path d=\"M17.41 7.96l-1.37-1.37c-.4-.4-.92-.59-1.43-.59-.52 0-1.04.2-1.43.59L10.3 9.45l-7.72 7.72c-.78.78-.78 2.05 0 2.83L4 21.41c.39.39.9.59 1.41.59.51 0 1.02-.2 1.41-.59l7.78-7.78 2.81-2.81c.8-.78.8-2.07 0-2.86zM5.41 20L4 18.59l7.72-7.72 1.47 1.35L5.41 20z\"/>\n",
              "  </svg>\n",
              "      </button>\n",
              "      \n",
              "  <style>\n",
              "    .colab-df-container {\n",
              "      display:flex;\n",
              "      flex-wrap:wrap;\n",
              "      gap: 12px;\n",
              "    }\n",
              "\n",
              "    .colab-df-convert {\n",
              "      background-color: #E8F0FE;\n",
              "      border: none;\n",
              "      border-radius: 50%;\n",
              "      cursor: pointer;\n",
              "      display: none;\n",
              "      fill: #1967D2;\n",
              "      height: 32px;\n",
              "      padding: 0 0 0 0;\n",
              "      width: 32px;\n",
              "    }\n",
              "\n",
              "    .colab-df-convert:hover {\n",
              "      background-color: #E2EBFA;\n",
              "      box-shadow: 0px 1px 2px rgba(60, 64, 67, 0.3), 0px 1px 3px 1px rgba(60, 64, 67, 0.15);\n",
              "      fill: #174EA6;\n",
              "    }\n",
              "\n",
              "    [theme=dark] .colab-df-convert {\n",
              "      background-color: #3B4455;\n",
              "      fill: #D2E3FC;\n",
              "    }\n",
              "\n",
              "    [theme=dark] .colab-df-convert:hover {\n",
              "      background-color: #434B5C;\n",
              "      box-shadow: 0px 1px 3px 1px rgba(0, 0, 0, 0.15);\n",
              "      filter: drop-shadow(0px 1px 2px rgba(0, 0, 0, 0.3));\n",
              "      fill: #FFFFFF;\n",
              "    }\n",
              "  </style>\n",
              "\n",
              "      <script>\n",
              "        const buttonEl =\n",
              "          document.querySelector('#df-52b91661-0cd6-40d8-9ec6-f8fa42af1bfc button.colab-df-convert');\n",
              "        buttonEl.style.display =\n",
              "          google.colab.kernel.accessAllowed ? 'block' : 'none';\n",
              "\n",
              "        async function convertToInteractive(key) {\n",
              "          const element = document.querySelector('#df-52b91661-0cd6-40d8-9ec6-f8fa42af1bfc');\n",
              "          const dataTable =\n",
              "            await google.colab.kernel.invokeFunction('convertToInteractive',\n",
              "                                                     [key], {});\n",
              "          if (!dataTable) return;\n",
              "\n",
              "          const docLinkHtml = 'Like what you see? Visit the ' +\n",
              "            '<a target=\"_blank\" href=https://colab.research.google.com/notebooks/data_table.ipynb>data table notebook</a>'\n",
              "            + ' to learn more about interactive tables.';\n",
              "          element.innerHTML = '';\n",
              "          dataTable['output_type'] = 'display_data';\n",
              "          await google.colab.output.renderOutput(dataTable, element);\n",
              "          const docLink = document.createElement('div');\n",
              "          docLink.innerHTML = docLinkHtml;\n",
              "          element.appendChild(docLink);\n",
              "        }\n",
              "      </script>\n",
              "    </div>\n",
              "  </div>\n",
              "  "
            ]
          },
          "metadata": {},
          "execution_count": 109
        }
      ]
    },
    {
      "cell_type": "markdown",
      "source": [
        "**Extract Post Code from column address.**\n",
        "post code is located on last word from address\n",
        "\n",
        "'(\\d+)$'\n",
        "\n",
        "> \\d, Returns where the string contains digits (numbers from 0-9)\n",
        "\n",
        "> $, Ends with\n",
        "\n",
        "\n",
        "\n",
        "\n",
        "\n",
        "\n",
        "\n",
        "\n",
        "\n",
        "\n"
      ],
      "metadata": {
        "id": "Egk94FJljMTS"
      }
    },
    {
      "cell_type": "code",
      "source": [
        "df['address'].head(15)"
      ],
      "metadata": {
        "colab": {
          "base_uri": "https://localhost:8080/"
        },
        "id": "BkPSQfHJrBjW",
        "outputId": "34feec3b-07d4-4a99-cf3a-9e33d6927067"
      },
      "execution_count": 110,
      "outputs": [
        {
          "output_type": "execute_result",
          "data": {
            "text/plain": [
              "0              Gg. Monginsidi No. 08\\nMedan, Aceh 80734\n",
              "1        Gg. Rajawali Timur No. 7\\nPrabumulih, MA 09434\n",
              "2                Jalan Kebonjati No. 0\\nAmbon, SS 57739\n",
              "3       Jl. Yos Sudarso No. 109\\nLubuklinggau, SR 76156\n",
              "4     Jalan Gardujati No. 53\\nKediri, Sulawesi Tenga...\n",
              "5          Jl. Pacuan Kuda No. 58\\nDenpasar, Aceh 00880\n",
              "6             Gg. Cihampelas No. 4\\nSamarinda, KT 48108\n",
              "7              Gg. Sukabumi No. 7\\nParepare, Bali 64255\n",
              "8                      Gg. Peta No. 01\\nMedan, BE 89056\n",
              "9     Jalan Cempaka No. 8\\nBitung, Kalimantan Barat ...\n",
              "10      Gang Laswi No. 34\\nKediri, Sulawesi Barat 18717\n",
              "11     Gang HOS. Cokroaminoto No. 74\\nBau-Bau, MA 40721\n",
              "12          Jl. Sukajadi No. 387\\nGorontalo, Aceh 40645\n",
              "13    Jl. Rajawali Timur No. 0\\nBatam, Kalimantan Ti...\n",
              "14         Gg. Astana Anyar No. 06\\nPagaralam, KT 46071\n",
              "Name: address, dtype: object"
            ]
          },
          "metadata": {},
          "execution_count": 110
        }
      ]
    },
    {
      "cell_type": "code",
      "source": [
        "df['KodePos'] = df['address'].str.extract(r'(\\d+)$')\n",
        "\n",
        "df['KodePos'].head()"
      ],
      "metadata": {
        "colab": {
          "base_uri": "https://localhost:8080/"
        },
        "id": "abe5CQy1jZ9S",
        "outputId": "77c8349a-d11b-47e1-80b5-e22b7fca69af"
      },
      "execution_count": 111,
      "outputs": [
        {
          "output_type": "execute_result",
          "data": {
            "text/plain": [
              "0    80734\n",
              "1    09434\n",
              "2    57739\n",
              "3    76156\n",
              "4    70074\n",
              "Name: KodePos, dtype: object"
            ]
          },
          "metadata": {},
          "execution_count": 111
        }
      ]
    },
    {
      "cell_type": "markdown",
      "source": [
        "Extract Kota from column address\n",
        "\n",
        "'(?<=\\n)(\\w.+)(?=,)'\n",
        "\n",
        "> Indented block\n",
        "\n"
      ],
      "metadata": {
        "id": "-PySn7DWyZN_"
      }
    },
    {
      "cell_type": "code",
      "source": [
        "df['kota'] = df['address'].str.extract(r'(?<=\\n)(\\w.+)(?=,)')"
      ],
      "metadata": {
        "id": "S2BX4YmPrbxM"
      },
      "execution_count": 112,
      "outputs": []
    },
    {
      "cell_type": "markdown",
      "source": [
        "make 'github' columns from firstname and lastname columns, after doing lowercase"
      ],
      "metadata": {
        "id": "fGh_P0XW8UTK"
      }
    },
    {
      "cell_type": "code",
      "source": [
        "df['github_profile'] = 'https://github.com' + df['first_name'].str.lower() + df['last_name'].str.lower()"
      ],
      "metadata": {
        "id": "537uLATZ8tgT"
      },
      "execution_count": 113,
      "outputs": []
    },
    {
      "cell_type": "code",
      "source": [
        "df['github_profile'].head()"
      ],
      "metadata": {
        "colab": {
          "base_uri": "https://localhost:8080/"
        },
        "id": "WxA88nyKhcst",
        "outputId": "9f831c71-1506-45ad-b5ca-49b177c0b181"
      },
      "execution_count": 114,
      "outputs": [
        {
          "output_type": "execute_result",
          "data": {
            "text/plain": [
              "0      https://github.comcitranurdiyanti\n",
              "1         https://github.comarissetiawan\n",
              "2    https://github.comcorneliahandayani\n",
              "3          https://github.comsolehrajasa\n",
              "4           https://github.comviviastuti\n",
              "Name: github_profile, dtype: object"
            ]
          },
          "metadata": {},
          "execution_count": 114
        }
      ]
    },
    {
      "cell_type": "markdown",
      "source": [
        "Doing a cleansing from 'phone number' column, with several spesification\n",
        "\n",
        "1.   if the value started with 62 or +62, will be replaced to 0.\n",
        "2.   if the value had punctuation (), -, or etc. will be removed\n",
        "1.   if the value had space, will be removed\n",
        "2.   All of value already done will be save on \"cleaned_phone_number\"\n",
        "\n",
        "\n",
        "\n"
      ],
      "metadata": {
        "id": "NcHjQjjn9LIm"
      }
    },
    {
      "cell_type": "code",
      "source": [
        "df['phone_number'].head(15)"
      ],
      "metadata": {
        "colab": {
          "base_uri": "https://localhost:8080/"
        },
        "id": "M-V30Ljt_BCD",
        "outputId": "72e8f450-7ac7-4656-c08c-5e4b20e1b3e4"
      },
      "execution_count": 115,
      "outputs": [
        {
          "output_type": "execute_result",
          "data": {
            "text/plain": [
              "0        (0151) 081 2706\n",
              "1     +62 (036) 461 7027\n",
              "2           089 833 6695\n",
              "3     +62 (418) 329-4756\n",
              "4             0812511835\n",
              "5      +62 (11) 369-7082\n",
              "6        (0244) 430 7220\n",
              "7     +62 (056) 931-9059\n",
              "8      +62 (11) 826-1289\n",
              "9      +62 (86) 156 1327\n",
              "10    +62 (004) 561 6831\n",
              "11      +62-304-075-1010\n",
              "12      +62-766-738-4901\n",
              "13       +62-57-926-3059\n",
              "14    +62 (447) 608 1087\n",
              "Name: phone_number, dtype: object"
            ]
          },
          "metadata": {},
          "execution_count": 115
        }
      ]
    },
    {
      "cell_type": "code",
      "source": [
        "df['cleaned_phone_number'] = df['phone_number'].str.replace(r'^(\\+62|62)', '0')\n",
        "\n",
        "#df['cleaned_phone_number'] = df['phone_number'].str.replace(r'^(62)', '0')\n",
        "#df['cleaned_phone_number'] = df['phone_number'].str.replace('^+62', '32222323', regex=False)\n",
        "\n",
        "#df['cleaned_phone_number'] = df['phone_number'].str.replace(r'[-]', '')"
      ],
      "metadata": {
        "colab": {
          "base_uri": "https://localhost:8080/"
        },
        "id": "cm3phPwy2Wwe",
        "outputId": "87a58b2e-6e1b-4ae5-828e-faf589c2c417"
      },
      "execution_count": 121,
      "outputs": [
        {
          "output_type": "stream",
          "name": "stderr",
          "text": [
            "/usr/local/lib/python3.7/dist-packages/ipykernel_launcher.py:1: FutureWarning: The default value of regex will change from True to False in a future version.\n",
            "  \"\"\"Entry point for launching an IPython kernel.\n"
          ]
        }
      ]
    },
    {
      "cell_type": "code",
      "source": [
        "df['cleaned_phone_number'] = df['cleaned_phone_number'].str.replace(\"[\\s()-]\", '')"
      ],
      "metadata": {
        "colab": {
          "base_uri": "https://localhost:8080/"
        },
        "id": "L1rRrQF0_IMW",
        "outputId": "5621709f-ca41-4315-87b1-343add2a0af6"
      },
      "execution_count": 122,
      "outputs": [
        {
          "output_type": "stream",
          "name": "stderr",
          "text": [
            "/usr/local/lib/python3.7/dist-packages/ipykernel_launcher.py:1: FutureWarning: The default value of regex will change from True to False in a future version.\n",
            "  \"\"\"Entry point for launching an IPython kernel.\n"
          ]
        }
      ]
    },
    {
      "cell_type": "code",
      "source": [
        "df['cleaned_phone_number'].head(22)"
      ],
      "metadata": {
        "id": "MRDm7Z5CGorC",
        "colab": {
          "base_uri": "https://localhost:8080/"
        },
        "outputId": "f620b12a-4905-42fb-96f7-c87b5e5dd17a"
      },
      "execution_count": 123,
      "outputs": [
        {
          "output_type": "execute_result",
          "data": {
            "text/plain": [
              "0      01510812706\n",
              "1      00364617027\n",
              "2       0898336695\n",
              "3      04183294756\n",
              "4       0812511835\n",
              "5       0113697082\n",
              "6      02444307220\n",
              "7      00569319059\n",
              "8       0118261289\n",
              "9       0861561327\n",
              "10     00045616831\n",
              "11     03040751010\n",
              "12     07667384901\n",
              "13      0579263059\n",
              "14     04476081087\n",
              "15      0930630588\n",
              "16     08572635384\n",
              "17     06313638240\n",
              "18     07835295810\n",
              "19      0835045393\n",
              "20    007487231906\n",
              "21      0853316705\n",
              "Name: cleaned_phone_number, dtype: object"
            ]
          },
          "metadata": {},
          "execution_count": 123
        }
      ]
    },
    {
      "cell_type": "markdown",
      "source": [
        "Created column \"team name\", merged of column first name, last name, country and institute"
      ],
      "metadata": {
        "id": "d5DSHQsEB5LJ"
      }
    },
    {
      "cell_type": "code",
      "source": [
        "df.columns"
      ],
      "metadata": {
        "colab": {
          "base_uri": "https://localhost:8080/"
        },
        "id": "pdH-uxTn8jwC",
        "outputId": "b575d71d-bd9a-40f6-cce9-ad485ff9cf38"
      },
      "execution_count": 124,
      "outputs": [
        {
          "output_type": "execute_result",
          "data": {
            "text/plain": [
              "Index(['participant_id', 'first_name', 'last_name', 'birth_date', 'address',\n",
              "       'phone_number', 'country', 'institute', 'occupation', 'register_time',\n",
              "       'KodePos', 'kota', 'github_profile', 'cleaned_phone_number'],\n",
              "      dtype='object')"
            ]
          },
          "metadata": {},
          "execution_count": 124
        }
      ]
    },
    {
      "cell_type": "code",
      "source": [
        "def func(col):\n",
        "  abbrev_name = \"%s%s\"%(col['first_name'][0], col['last_name'][0])\n",
        "  country = col['country']\n",
        "  abbrev_institute = \"%s\"%(''.join(list(map(lambda word: word[0], col['institute'].split()))))\n",
        "\n",
        "  return \"%s-%s-%s\"%(abbrev_name, country, abbrev_institute)\n",
        "\n",
        "df['team_name'] = df.apply(func, axis=1)"
      ],
      "metadata": {
        "id": "EQ9BwLb39C5C"
      },
      "execution_count": 126,
      "outputs": []
    },
    {
      "cell_type": "code",
      "source": [
        "df['institute'].head()"
      ],
      "metadata": {
        "colab": {
          "base_uri": "https://localhost:8080/"
        },
        "id": "U-1Kt8um-uTG",
        "outputId": "4667ce28-72af-4db3-db35-363830b935f2"
      },
      "execution_count": 129,
      "outputs": [
        {
          "output_type": "execute_result",
          "data": {
            "text/plain": [
              "0         UD Prakasa Mandasari\n",
              "1       Universitas Diponegoro\n",
              "2     UD Hardiansyah Puspasari\n",
              "3    Perum Tampubolon Yuliarti\n",
              "4       PT Hardiansyah Rahimah\n",
              "Name: institute, dtype: object"
            ]
          },
          "metadata": {},
          "execution_count": 129
        }
      ]
    },
    {
      "cell_type": "code",
      "source": [
        "df['team_name'].head()"
      ],
      "metadata": {
        "colab": {
          "base_uri": "https://localhost:8080/"
        },
        "id": "vvnw2kUA-mpM",
        "outputId": "39252931-21ce-4589-be13-dbaa475fdfc0"
      },
      "execution_count": 130,
      "outputs": [
        {
          "output_type": "execute_result",
          "data": {
            "text/plain": [
              "0       CN-Georgia-UPM\n",
              "1    AS-Korea Utara-UD\n",
              "2        CH-Komoro-UHP\n",
              "3       SR-Eritrea-PTY\n",
              "4      VA-Aljazair-PHR\n",
              "Name: team_name, dtype: object"
            ]
          },
          "metadata": {},
          "execution_count": 130
        }
      ]
    },
    {
      "cell_type": "markdown",
      "source": [
        "**create email column with spesification\n",
        "xxyy@aa.bb.[ac/com].[cc] **\n",
        "\n",
        "1.   xx is first name\n",
        "2.   yy is last name\n",
        "1.   aa is the name institute\n",
        "\n",
        "> if aa, is university. bb merge of first for first word from university, followed .ac\n",
        "\n",
        "> if not, followed .com\n",
        "\n",
        "4.   cc, is country from participant.\n",
        "\n",
        "> if just one word, take 3 first letter\n",
        "\n",
        "> if not, take 1 from every words\n",
        "\n",
        "\n"
      ],
      "metadata": {
        "id": "lmUHD5gU_QOl"
      }
    },
    {
      "cell_type": "markdown",
      "source": [
        "example:\n",
        "first: Citra\n",
        "last: Nurdiyanti\n",
        "institusi: UD Perkasa Mandasari\n",
        "Country: Georgia\n",
        "So, Email: citranurdiyanti@upm.geo\n",
        "\n",
        "\n",
        "\n",
        "example:\n",
        "first: Aris\n",
        "last: Setiawan\n",
        "institusi: Universitas Diponegoro\n",
        "Country: Korea Utara\n",
        "So, Email: arissetiawan@ud.ac.ku"
      ],
      "metadata": {
        "id": "ki4kfXNzBw0c"
      }
    },
    {
      "cell_type": "code",
      "source": [
        "def func(col):\n",
        "  firstname_lower = col['first_name'].lower()\n",
        "  lastname_lower = col['last_name'].lower()\n",
        "  institute = ''.join(list(map(lambda word : word[0], col['institute'].lower().split())))\n",
        "\n",
        "  if 'Universitas' in col['institute']:\n",
        "    if len(col['country'].split()) > 1:\n",
        "      country = ''.join(list(map(lambda word : word[0], col['country'].lower().split())))\n",
        "    else:\n",
        "      country = col['country'] [:3].lower()\n",
        "    return \"%s%s@%s.ac.%s\"%(firstname_lower, lastname_lower, institute, country)\n",
        "  \n",
        "  return \"%s%s@%s.com\"%(firstname_lower, lastname_lower, institute)\n",
        "\n",
        "df['email'] = df.apply(func, axis=1)"
      ],
      "metadata": {
        "id": "de81F12i_pTS"
      },
      "execution_count": 131,
      "outputs": []
    },
    {
      "cell_type": "code",
      "source": [
        "df['email'].head(11)"
      ],
      "metadata": {
        "colab": {
          "base_uri": "https://localhost:8080/"
        },
        "id": "mM7IIJSsHSh7",
        "outputId": "8267aa64-e83f-449d-89b5-225a1b3a7775"
      },
      "execution_count": 132,
      "outputs": [
        {
          "output_type": "execute_result",
          "data": {
            "text/plain": [
              "0         citranurdiyanti@upm.com\n",
              "1           arissetiawan@ud.ac.ku\n",
              "2       corneliahandayani@uhp.com\n",
              "3             solehrajasa@pty.com\n",
              "4              viviastuti@phr.com\n",
              "5     bahuraksamangunsong@cmh.com\n",
              "6            tiaramaryati@uiw.com\n",
              "7             dimazgunarto@pp.com\n",
              "8        zizipuspasari@ubs.ac.gam\n",
              "9          cecepharyanto@pppt.com\n",
              "10        vanyayuliarti@uj.ac.fin\n",
              "Name: email, dtype: object"
            ]
          },
          "metadata": {},
          "execution_count": 132
        }
      ]
    },
    {
      "cell_type": "markdown",
      "source": [],
      "metadata": {
        "id": "UW_ZXnWiHsKT"
      }
    },
    {
      "cell_type": "code",
      "source": [
        "df['birth_date'].head(11)"
      ],
      "metadata": {
        "colab": {
          "base_uri": "https://localhost:8080/"
        },
        "id": "zlnUdb74HsYB",
        "outputId": "d52c9fe6-6be2-44e6-a1c4-f23a609dc096"
      },
      "execution_count": 134,
      "outputs": [
        {
          "output_type": "execute_result",
          "data": {
            "text/plain": [
              "0     05 Feb 1991\n",
              "1     11 Jan 1993\n",
              "2     31 Jul 1993\n",
              "3     04 Nov 1991\n",
              "4     22 Jan 2003\n",
              "5     13 Nov 1997\n",
              "6     10 Mar 1994\n",
              "7     16 Feb 2000\n",
              "8     11 Apr 2002\n",
              "9     15 Jan 1994\n",
              "10    09 Apr 1998\n",
              "Name: birth_date, dtype: object"
            ]
          },
          "metadata": {},
          "execution_count": 134
        }
      ]
    },
    {
      "cell_type": "code",
      "source": [
        "df['birth_date'] = pd.to_datetime(df['birth_date'], format='%d %b %Y')"
      ],
      "metadata": {
        "id": "3uNuXkzkH-GS"
      },
      "execution_count": 136,
      "outputs": []
    },
    {
      "cell_type": "code",
      "source": [
        "df['birth_date'].head(11)"
      ],
      "metadata": {
        "colab": {
          "base_uri": "https://localhost:8080/"
        },
        "id": "0JIm1fYfITNi",
        "outputId": "f04e4926-78d2-4d8c-912f-7d0c38145d84"
      },
      "execution_count": 137,
      "outputs": [
        {
          "output_type": "execute_result",
          "data": {
            "text/plain": [
              "0    1991-02-05\n",
              "1    1993-01-11\n",
              "2    1993-07-31\n",
              "3    1991-11-04\n",
              "4    2003-01-22\n",
              "5    1997-11-13\n",
              "6    1994-03-10\n",
              "7    2000-02-16\n",
              "8    2002-04-11\n",
              "9    1994-01-15\n",
              "10   1998-04-09\n",
              "Name: birth_date, dtype: datetime64[ns]"
            ]
          },
          "metadata": {},
          "execution_count": 137
        }
      ]
    },
    {
      "cell_type": "code",
      "source": [
        "df['register_time'].head()"
      ],
      "metadata": {
        "colab": {
          "base_uri": "https://localhost:8080/"
        },
        "id": "TgFkSuDiItrt",
        "outputId": "0c47566c-a195-4dac-f14a-0e44727e63ac"
      },
      "execution_count": 138,
      "outputs": [
        {
          "output_type": "execute_result",
          "data": {
            "text/plain": [
              "0    1.617634e+09\n",
              "1    1.617634e+09\n",
              "2    1.617634e+09\n",
              "3    1.617634e+09\n",
              "4    1.617634e+09\n",
              "Name: register_time, dtype: float64"
            ]
          },
          "metadata": {},
          "execution_count": 138
        }
      ]
    },
    {
      "cell_type": "code",
      "source": [
        "df['register_at'] = pd.to_datetime(df['register_time'], unit='s')"
      ],
      "metadata": {
        "id": "sR0gh2IsI7Ou"
      },
      "execution_count": 139,
      "outputs": []
    },
    {
      "cell_type": "code",
      "source": [
        "df['register_at'].head()"
      ],
      "metadata": {
        "colab": {
          "base_uri": "https://localhost:8080/"
        },
        "id": "BOml0s27JPU_",
        "outputId": "8818d2ab-10fe-4cb4-a17c-eec955b4f382"
      },
      "execution_count": 140,
      "outputs": [
        {
          "output_type": "execute_result",
          "data": {
            "text/plain": [
              "0   2021-04-05 14:47:26\n",
              "1   2021-04-05 14:46:58\n",
              "2   2021-04-05 14:47:15\n",
              "3   2021-04-05 14:47:14\n",
              "4   2021-04-05 14:46:50\n",
              "Name: register_at, dtype: datetime64[ns]"
            ]
          },
          "metadata": {},
          "execution_count": 140
        }
      ]
    },
    {
      "cell_type": "code",
      "source": [],
      "metadata": {
        "id": "YrafXBQuJZ00"
      },
      "execution_count": null,
      "outputs": []
    }
  ]
}