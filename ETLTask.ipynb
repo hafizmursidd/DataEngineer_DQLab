{
  "nbformat": 4,
  "nbformat_minor": 0,
  "metadata": {
    "colab": {
      "provenance": [],
      "authorship_tag": "ABX9TyPH7yIRrjjyX0k6OfkjZxZ5",
      "include_colab_link": true
    },
    "kernelspec": {
      "name": "python3",
      "display_name": "Python 3"
    },
    "language_info": {
      "name": "python"
    }
  },
  "cells": [
    {
      "cell_type": "markdown",
      "metadata": {
        "id": "view-in-github",
        "colab_type": "text"
      },
      "source": [
        "<a href=\"https://colab.research.google.com/github/hafizmursidd/DataEngineer_DQLab/blob/main/ETLTask.ipynb\" target=\"_parent\"><img src=\"https://colab.research.google.com/assets/colab-badge.svg\" alt=\"Open In Colab\"/></a>"
      ]
    },
    {
      "cell_type": "markdown",
      "source": [
        "Import data"
      ],
      "metadata": {
        "id": "jD5vOIfsi0oX"
      }
    },
    {
      "cell_type": "code",
      "execution_count": 9,
      "metadata": {
        "id": "tWJe5GfqibUd"
      },
      "outputs": [],
      "source": [
        "import pandas as pd\n",
        "\n",
        "linkURL=\"https://storage.googleapis.com/dqlab-dataset/dqthon-participants.csv\"\n",
        "df = pd.read_csv(linkURL)"
      ]
    },
    {
      "cell_type": "code",
      "source": [
        "df.columns"
      ],
      "metadata": {
        "colab": {
          "base_uri": "https://localhost:8080/"
        },
        "id": "rp_ci7ZFkXu9",
        "outputId": "afc1d85d-3e39-428b-f380-4d620f11c064"
      },
      "execution_count": 10,
      "outputs": [
        {
          "output_type": "execute_result",
          "data": {
            "text/plain": [
              "Index(['participant_id', 'first_name', 'last_name', 'birth_date', 'address',\n",
              "       'phone_number', 'country', 'institute', 'occupation', 'register_time'],\n",
              "      dtype='object')"
            ]
          },
          "metadata": {},
          "execution_count": 10
        }
      ]
    },
    {
      "cell_type": "code",
      "source": [
        "df.head()"
      ],
      "metadata": {
        "colab": {
          "base_uri": "https://localhost:8080/",
          "height": 372
        },
        "id": "dJbzyYZIi97y",
        "outputId": "11934cbf-2d88-43cf-fdf2-494a77b7e33f"
      },
      "execution_count": 11,
      "outputs": [
        {
          "output_type": "execute_result",
          "data": {
            "text/plain": [
              "                         participant_id first_name   last_name   birth_date  \\\n",
              "0  bd9b6f88-b84f-4c4d-90f8-b67fe2f1a29a      Citra  Nurdiyanti  05 Feb 1991   \n",
              "1  7dfe3391-6f40-47b6-b4db-0c76ebaf5fc3       Aris    Setiawan  11 Jan 1993   \n",
              "2  19582d7f-b824-4fe5-a517-d5bf573fc768   Cornelia   Handayani  31 Jul 1993   \n",
              "3  aeb6d817-25f3-4867-8a74-8d92e0a0f633      Soleh      Rajasa  04 Nov 1991   \n",
              "4  1fdabdd9-5444-4c97-87b2-fe8833ad0d27       Vivi      Astuti  22 Jan 2003   \n",
              "\n",
              "                                             address        phone_number  \\\n",
              "0           Gg. Monginsidi No. 08\\nMedan, Aceh 80734     (0151) 081 2706   \n",
              "1     Gg. Rajawali Timur No. 7\\nPrabumulih, MA 09434  +62 (036) 461 7027   \n",
              "2             Jalan Kebonjati No. 0\\nAmbon, SS 57739        089 833 6695   \n",
              "3    Jl. Yos Sudarso No. 109\\nLubuklinggau, SR 76156  +62 (418) 329-4756   \n",
              "4  Jalan Gardujati No. 53\\nKediri, Sulawesi Tenga...          0812511835   \n",
              "\n",
              "       country                  institute                      occupation  \\\n",
              "0      Georgia       UD Prakasa Mandasari  Business Intelligence Engineer   \n",
              "1  Korea Utara     Universitas Diponegoro               Frontend Engineer   \n",
              "2       Komoro   UD Hardiansyah Puspasari                Business Analyst   \n",
              "3      Eritrea  Perum Tampubolon Yuliarti                 DevOps Engineer   \n",
              "4     Aljazair     PT Hardiansyah Rahimah                    Data Analyst   \n",
              "\n",
              "   register_time  \n",
              "0   1.617634e+09  \n",
              "1   1.617634e+09  \n",
              "2   1.617634e+09  \n",
              "3   1.617634e+09  \n",
              "4   1.617634e+09  "
            ],
            "text/html": [
              "\n",
              "  <div id=\"df-791be359-ee4f-4f69-aa4f-383dc4c0299b\">\n",
              "    <div class=\"colab-df-container\">\n",
              "      <div>\n",
              "<style scoped>\n",
              "    .dataframe tbody tr th:only-of-type {\n",
              "        vertical-align: middle;\n",
              "    }\n",
              "\n",
              "    .dataframe tbody tr th {\n",
              "        vertical-align: top;\n",
              "    }\n",
              "\n",
              "    .dataframe thead th {\n",
              "        text-align: right;\n",
              "    }\n",
              "</style>\n",
              "<table border=\"1\" class=\"dataframe\">\n",
              "  <thead>\n",
              "    <tr style=\"text-align: right;\">\n",
              "      <th></th>\n",
              "      <th>participant_id</th>\n",
              "      <th>first_name</th>\n",
              "      <th>last_name</th>\n",
              "      <th>birth_date</th>\n",
              "      <th>address</th>\n",
              "      <th>phone_number</th>\n",
              "      <th>country</th>\n",
              "      <th>institute</th>\n",
              "      <th>occupation</th>\n",
              "      <th>register_time</th>\n",
              "    </tr>\n",
              "  </thead>\n",
              "  <tbody>\n",
              "    <tr>\n",
              "      <th>0</th>\n",
              "      <td>bd9b6f88-b84f-4c4d-90f8-b67fe2f1a29a</td>\n",
              "      <td>Citra</td>\n",
              "      <td>Nurdiyanti</td>\n",
              "      <td>05 Feb 1991</td>\n",
              "      <td>Gg. Monginsidi No. 08\\nMedan, Aceh 80734</td>\n",
              "      <td>(0151) 081 2706</td>\n",
              "      <td>Georgia</td>\n",
              "      <td>UD Prakasa Mandasari</td>\n",
              "      <td>Business Intelligence Engineer</td>\n",
              "      <td>1.617634e+09</td>\n",
              "    </tr>\n",
              "    <tr>\n",
              "      <th>1</th>\n",
              "      <td>7dfe3391-6f40-47b6-b4db-0c76ebaf5fc3</td>\n",
              "      <td>Aris</td>\n",
              "      <td>Setiawan</td>\n",
              "      <td>11 Jan 1993</td>\n",
              "      <td>Gg. Rajawali Timur No. 7\\nPrabumulih, MA 09434</td>\n",
              "      <td>+62 (036) 461 7027</td>\n",
              "      <td>Korea Utara</td>\n",
              "      <td>Universitas Diponegoro</td>\n",
              "      <td>Frontend Engineer</td>\n",
              "      <td>1.617634e+09</td>\n",
              "    </tr>\n",
              "    <tr>\n",
              "      <th>2</th>\n",
              "      <td>19582d7f-b824-4fe5-a517-d5bf573fc768</td>\n",
              "      <td>Cornelia</td>\n",
              "      <td>Handayani</td>\n",
              "      <td>31 Jul 1993</td>\n",
              "      <td>Jalan Kebonjati No. 0\\nAmbon, SS 57739</td>\n",
              "      <td>089 833 6695</td>\n",
              "      <td>Komoro</td>\n",
              "      <td>UD Hardiansyah Puspasari</td>\n",
              "      <td>Business Analyst</td>\n",
              "      <td>1.617634e+09</td>\n",
              "    </tr>\n",
              "    <tr>\n",
              "      <th>3</th>\n",
              "      <td>aeb6d817-25f3-4867-8a74-8d92e0a0f633</td>\n",
              "      <td>Soleh</td>\n",
              "      <td>Rajasa</td>\n",
              "      <td>04 Nov 1991</td>\n",
              "      <td>Jl. Yos Sudarso No. 109\\nLubuklinggau, SR 76156</td>\n",
              "      <td>+62 (418) 329-4756</td>\n",
              "      <td>Eritrea</td>\n",
              "      <td>Perum Tampubolon Yuliarti</td>\n",
              "      <td>DevOps Engineer</td>\n",
              "      <td>1.617634e+09</td>\n",
              "    </tr>\n",
              "    <tr>\n",
              "      <th>4</th>\n",
              "      <td>1fdabdd9-5444-4c97-87b2-fe8833ad0d27</td>\n",
              "      <td>Vivi</td>\n",
              "      <td>Astuti</td>\n",
              "      <td>22 Jan 2003</td>\n",
              "      <td>Jalan Gardujati No. 53\\nKediri, Sulawesi Tenga...</td>\n",
              "      <td>0812511835</td>\n",
              "      <td>Aljazair</td>\n",
              "      <td>PT Hardiansyah Rahimah</td>\n",
              "      <td>Data Analyst</td>\n",
              "      <td>1.617634e+09</td>\n",
              "    </tr>\n",
              "  </tbody>\n",
              "</table>\n",
              "</div>\n",
              "      <button class=\"colab-df-convert\" onclick=\"convertToInteractive('df-791be359-ee4f-4f69-aa4f-383dc4c0299b')\"\n",
              "              title=\"Convert this dataframe to an interactive table.\"\n",
              "              style=\"display:none;\">\n",
              "        \n",
              "  <svg xmlns=\"http://www.w3.org/2000/svg\" height=\"24px\"viewBox=\"0 0 24 24\"\n",
              "       width=\"24px\">\n",
              "    <path d=\"M0 0h24v24H0V0z\" fill=\"none\"/>\n",
              "    <path d=\"M18.56 5.44l.94 2.06.94-2.06 2.06-.94-2.06-.94-.94-2.06-.94 2.06-2.06.94zm-11 1L8.5 8.5l.94-2.06 2.06-.94-2.06-.94L8.5 2.5l-.94 2.06-2.06.94zm10 10l.94 2.06.94-2.06 2.06-.94-2.06-.94-.94-2.06-.94 2.06-2.06.94z\"/><path d=\"M17.41 7.96l-1.37-1.37c-.4-.4-.92-.59-1.43-.59-.52 0-1.04.2-1.43.59L10.3 9.45l-7.72 7.72c-.78.78-.78 2.05 0 2.83L4 21.41c.39.39.9.59 1.41.59.51 0 1.02-.2 1.41-.59l7.78-7.78 2.81-2.81c.8-.78.8-2.07 0-2.86zM5.41 20L4 18.59l7.72-7.72 1.47 1.35L5.41 20z\"/>\n",
              "  </svg>\n",
              "      </button>\n",
              "      \n",
              "  <style>\n",
              "    .colab-df-container {\n",
              "      display:flex;\n",
              "      flex-wrap:wrap;\n",
              "      gap: 12px;\n",
              "    }\n",
              "\n",
              "    .colab-df-convert {\n",
              "      background-color: #E8F0FE;\n",
              "      border: none;\n",
              "      border-radius: 50%;\n",
              "      cursor: pointer;\n",
              "      display: none;\n",
              "      fill: #1967D2;\n",
              "      height: 32px;\n",
              "      padding: 0 0 0 0;\n",
              "      width: 32px;\n",
              "    }\n",
              "\n",
              "    .colab-df-convert:hover {\n",
              "      background-color: #E2EBFA;\n",
              "      box-shadow: 0px 1px 2px rgba(60, 64, 67, 0.3), 0px 1px 3px 1px rgba(60, 64, 67, 0.15);\n",
              "      fill: #174EA6;\n",
              "    }\n",
              "\n",
              "    [theme=dark] .colab-df-convert {\n",
              "      background-color: #3B4455;\n",
              "      fill: #D2E3FC;\n",
              "    }\n",
              "\n",
              "    [theme=dark] .colab-df-convert:hover {\n",
              "      background-color: #434B5C;\n",
              "      box-shadow: 0px 1px 3px 1px rgba(0, 0, 0, 0.15);\n",
              "      filter: drop-shadow(0px 1px 2px rgba(0, 0, 0, 0.3));\n",
              "      fill: #FFFFFF;\n",
              "    }\n",
              "  </style>\n",
              "\n",
              "      <script>\n",
              "        const buttonEl =\n",
              "          document.querySelector('#df-791be359-ee4f-4f69-aa4f-383dc4c0299b button.colab-df-convert');\n",
              "        buttonEl.style.display =\n",
              "          google.colab.kernel.accessAllowed ? 'block' : 'none';\n",
              "\n",
              "        async function convertToInteractive(key) {\n",
              "          const element = document.querySelector('#df-791be359-ee4f-4f69-aa4f-383dc4c0299b');\n",
              "          const dataTable =\n",
              "            await google.colab.kernel.invokeFunction('convertToInteractive',\n",
              "                                                     [key], {});\n",
              "          if (!dataTable) return;\n",
              "\n",
              "          const docLinkHtml = 'Like what you see? Visit the ' +\n",
              "            '<a target=\"_blank\" href=https://colab.research.google.com/notebooks/data_table.ipynb>data table notebook</a>'\n",
              "            + ' to learn more about interactive tables.';\n",
              "          element.innerHTML = '';\n",
              "          dataTable['output_type'] = 'display_data';\n",
              "          await google.colab.output.renderOutput(dataTable, element);\n",
              "          const docLink = document.createElement('div');\n",
              "          docLink.innerHTML = docLinkHtml;\n",
              "          element.appendChild(docLink);\n",
              "        }\n",
              "      </script>\n",
              "    </div>\n",
              "  </div>\n",
              "  "
            ]
          },
          "metadata": {},
          "execution_count": 11
        }
      ]
    },
    {
      "cell_type": "markdown",
      "source": [
        "**Extract Post Code from column address.**\n",
        "post code is located on last word from address\n",
        "\n",
        "'(\\d+)$'\n",
        "\n",
        "> \\d, Returns where the string contains digits (numbers from 0-9)\n",
        "\n",
        "> $, Ends with\n",
        "\n",
        "\n",
        "\n",
        "\n",
        "\n",
        "\n",
        "\n",
        "\n",
        "\n",
        "\n"
      ],
      "metadata": {
        "id": "Egk94FJljMTS"
      }
    },
    {
      "cell_type": "code",
      "source": [
        "df['address'].head(15)"
      ],
      "metadata": {
        "colab": {
          "base_uri": "https://localhost:8080/"
        },
        "id": "BkPSQfHJrBjW",
        "outputId": "afb261d2-b11b-4a86-d914-c029156fb136"
      },
      "execution_count": 17,
      "outputs": [
        {
          "output_type": "execute_result",
          "data": {
            "text/plain": [
              "0              Gg. Monginsidi No. 08\\nMedan, Aceh 80734\n",
              "1        Gg. Rajawali Timur No. 7\\nPrabumulih, MA 09434\n",
              "2                Jalan Kebonjati No. 0\\nAmbon, SS 57739\n",
              "3       Jl. Yos Sudarso No. 109\\nLubuklinggau, SR 76156\n",
              "4     Jalan Gardujati No. 53\\nKediri, Sulawesi Tenga...\n",
              "5          Jl. Pacuan Kuda No. 58\\nDenpasar, Aceh 00880\n",
              "6             Gg. Cihampelas No. 4\\nSamarinda, KT 48108\n",
              "7              Gg. Sukabumi No. 7\\nParepare, Bali 64255\n",
              "8                      Gg. Peta No. 01\\nMedan, BE 89056\n",
              "9     Jalan Cempaka No. 8\\nBitung, Kalimantan Barat ...\n",
              "10      Gang Laswi No. 34\\nKediri, Sulawesi Barat 18717\n",
              "11     Gang HOS. Cokroaminoto No. 74\\nBau-Bau, MA 40721\n",
              "12          Jl. Sukajadi No. 387\\nGorontalo, Aceh 40645\n",
              "13    Jl. Rajawali Timur No. 0\\nBatam, Kalimantan Ti...\n",
              "14         Gg. Astana Anyar No. 06\\nPagaralam, KT 46071\n",
              "Name: address, dtype: object"
            ]
          },
          "metadata": {},
          "execution_count": 17
        }
      ]
    },
    {
      "cell_type": "code",
      "source": [
        "df['KodePos'] = df['address'].str.extract(r'(\\d+)$')\n",
        "\n",
        "df['KodePos'].head()"
      ],
      "metadata": {
        "colab": {
          "base_uri": "https://localhost:8080/"
        },
        "id": "abe5CQy1jZ9S",
        "outputId": "20dd54c2-9471-4b39-e646-58959186a426"
      },
      "execution_count": 15,
      "outputs": [
        {
          "output_type": "execute_result",
          "data": {
            "text/plain": [
              "0    80734\n",
              "1    09434\n",
              "2    57739\n",
              "3    76156\n",
              "4    70074\n",
              "Name: KodePos, dtype: object"
            ]
          },
          "metadata": {},
          "execution_count": 15
        }
      ]
    },
    {
      "cell_type": "markdown",
      "source": [
        "Extract Kota from column address\n",
        "\n",
        "'(?<=\\n)(\\w.+)(?=,)'\n",
        "\n",
        "> Indented block\n",
        "\n"
      ],
      "metadata": {
        "id": "-PySn7DWyZN_"
      }
    },
    {
      "cell_type": "code",
      "source": [
        "df['kota'] = df['address'].str.extract(r'(?<=\\n)(\\w.+)(?=,)')"
      ],
      "metadata": {
        "id": "S2BX4YmPrbxM"
      },
      "execution_count": 16,
      "outputs": []
    },
    {
      "cell_type": "markdown",
      "source": [
        "make 'github' columns from firstname and lastname columns, after doing lowercase"
      ],
      "metadata": {
        "id": "fGh_P0XW8UTK"
      }
    },
    {
      "cell_type": "code",
      "source": [
        "df['github_profile'] = 'https://github.com' + df['first_name'].str.lower() + df['last_name'].str.lower()"
      ],
      "metadata": {
        "id": "537uLATZ8tgT"
      },
      "execution_count": 18,
      "outputs": []
    },
    {
      "cell_type": "code",
      "source": [
        "df['phone_number'].head(15)"
      ],
      "metadata": {
        "colab": {
          "base_uri": "https://localhost:8080/"
        },
        "id": "M-V30Ljt_BCD",
        "outputId": "71a78301-b4f5-4519-ad8f-7af81f653051"
      },
      "execution_count": 19,
      "outputs": [
        {
          "output_type": "execute_result",
          "data": {
            "text/plain": [
              "0        (0151) 081 2706\n",
              "1     +62 (036) 461 7027\n",
              "2           089 833 6695\n",
              "3     +62 (418) 329-4756\n",
              "4             0812511835\n",
              "5      +62 (11) 369-7082\n",
              "6        (0244) 430 7220\n",
              "7     +62 (056) 931-9059\n",
              "8      +62 (11) 826-1289\n",
              "9      +62 (86) 156 1327\n",
              "10    +62 (004) 561 6831\n",
              "11      +62-304-075-1010\n",
              "12      +62-766-738-4901\n",
              "13       +62-57-926-3059\n",
              "14    +62 (447) 608 1087\n",
              "Name: phone_number, dtype: object"
            ]
          },
          "metadata": {},
          "execution_count": 19
        }
      ]
    },
    {
      "cell_type": "markdown",
      "source": [
        "Doing a cleansing from 'phone number' column, with several spesification\n",
        "\n",
        "1.   if the value started with 62 or +62, will be replaced to 0.\n",
        "2.   if the value had punctuation (), -, or etc. will be removed\n",
        "1.   if the value had space, will be removed\n",
        "2.   All of value already done will be save on \"cleaned_phone_number\"\n",
        "\n",
        "\n",
        "\n"
      ],
      "metadata": {
        "id": "NcHjQjjn9LIm"
      }
    },
    {
      "cell_type": "code",
      "source": [
        "import re\n",
        "''''df['cleaned_phone_number'] = df['phone_number'].str.replace(r'^(\\+62|62)', '0')\n",
        "\n",
        "df['cleaned_phone_number'] = df['phone_number'].str.replace(r'[()-]', '')'''\n",
        "\n",
        "df['cleaned_phone_number'] = df['phone_number'].replace(r'\\s', '')"
      ],
      "metadata": {
        "id": "L1rRrQF0_IMW"
      },
      "execution_count": 31,
      "outputs": []
    },
    {
      "cell_type": "code",
      "source": [
        "df['cleaned_phone_number']"
      ],
      "metadata": {
        "colab": {
          "base_uri": "https://localhost:8080/"
        },
        "id": "MRDm7Z5CGorC",
        "outputId": "7f221255-bea0-40e9-830d-ce696cf50d4d"
      },
      "execution_count": 32,
      "outputs": [
        {
          "output_type": "execute_result",
          "data": {
            "text/plain": [
              "0           (0151) 081 2706\n",
              "1        +62 (036) 461 7027\n",
              "2              089 833 6695\n",
              "3        +62 (418) 329-4756\n",
              "4                0812511835\n",
              "               ...         \n",
              "4995     +62 (050) 795-8398\n",
              "4996    +62 (0443) 963 0055\n",
              "4997    +62 (0408) 216-7689\n",
              "4998    +62 (0751) 380 3352\n",
              "4999     +62 (066) 414 8791\n",
              "Name: cleaned_phone_number, Length: 5000, dtype: object"
            ]
          },
          "metadata": {},
          "execution_count": 32
        }
      ]
    },
    {
      "cell_type": "markdown",
      "source": [],
      "metadata": {
        "id": "d5DSHQsEB5LJ"
      }
    }
  ]
}