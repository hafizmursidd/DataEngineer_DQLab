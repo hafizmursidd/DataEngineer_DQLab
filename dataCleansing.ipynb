{
  "nbformat": 4,
  "nbformat_minor": 0,
  "metadata": {
    "colab": {
      "provenance": [],
      "authorship_tag": "ABX9TyNHKrLEWWqPIA3dxFlqIeLx",
      "include_colab_link": true
    },
    "kernelspec": {
      "name": "python3",
      "display_name": "Python 3"
    },
    "language_info": {
      "name": "python"
    }
  },
  "cells": [
    {
      "cell_type": "markdown",
      "metadata": {
        "id": "view-in-github",
        "colab_type": "text"
      },
      "source": [
        "<a href=\"https://colab.research.google.com/github/hafizmursidd/DataEngineer_DQLab/blob/main/dataCleansing.ipynb\" target=\"_parent\"><img src=\"https://colab.research.google.com/assets/colab-badge.svg\" alt=\"Open In Colab\"/></a>"
      ]
    },
    {
      "cell_type": "code",
      "execution_count": 6,
      "metadata": {
        "colab": {
          "base_uri": "https://localhost:8080/"
        },
        "id": "PN1aQhkH2h05",
        "outputId": "210d9fa3-3a0e-44b5-ae6b-2cdd2a1b54a7"
      },
      "outputs": [
        {
          "output_type": "stream",
          "name": "stdout",
          "text": [
            "Index(['UpdatedAt', 'customerID', 'gender', 'SeniorCitizen', 'Partner',\n",
            "       'Dependents', 'tenure', 'PhoneService', 'MultipleLines',\n",
            "       'InternetService', 'OnlineSecurity', 'OnlineBackup', 'DeviceProtection',\n",
            "       'TechSupport', 'StreamingTV', 'StreamingMovies', 'Contract',\n",
            "       'PaperlessBilling', 'PaymentMethod', 'MonthlyCharges', 'TotalCharges',\n",
            "       'Churn'],\n",
            "      dtype='object')\n"
          ]
        }
      ],
      "source": [
        "import pandas as pd\n",
        "\n",
        "url = \"/content/dqlab_telco.csv\"\n",
        "\n",
        "df = pd.read_csv(url)\n",
        "\n",
        "print(df.columns)\n"
      ]
    },
    {
      "cell_type": "markdown",
      "source": [
        "Filter column customer id with spesificitaion:\n",
        "only contains number and just 11 or 12 character and also started with number of 45"
      ],
      "metadata": {
        "id": "EKqqwWytZjF8"
      }
    },
    {
      "cell_type": "code",
      "source": [
        "df['valid_id'] = df['customerID'].astype(str).str.match(r\"(45\\d{9,10})\")\n",
        "print(df['valid_id'].head())\n",
        "\n",
        "df = (df[df['valid_id'] == True]).drop('valid_id', axis=1)\n",
        "\n",
        "print('result of new id customer', df['customerID'].count())\n"
      ],
      "metadata": {
        "colab": {
          "base_uri": "https://localhost:8080/"
        },
        "id": "pbqkDirHZRAQ",
        "outputId": "7538c9bb-2366-4a03-8144-4d31b26b3ea1"
      },
      "execution_count": 7,
      "outputs": [
        {
          "output_type": "stream",
          "name": "stdout",
          "text": [
            "0    True\n",
            "1    True\n",
            "2    True\n",
            "3    True\n",
            "4    True\n",
            "Name: valid_id, dtype: bool\n",
            "result of new id customer 7006\n"
          ]
        }
      ]
    },
    {
      "cell_type": "markdown",
      "source": [
        "Drop duplicate column or ID number"
      ],
      "metadata": {
        "id": "4D6Z7KSYaDkC"
      }
    },
    {
      "cell_type": "code",
      "source": [
        "df.drop_duplicates() #drop duplicate rows\n",
        "\n",
        "#drop duplicate id, sorted by periode\n",
        "df = df.sort_values('UpdatedAt', ascending=False).drop_duplicates('customerID')\n",
        "\n",
        "print(\"Value after drop duplicate id\")\n",
        "df['customerID'].count()"
      ],
      "metadata": {
        "colab": {
          "base_uri": "https://localhost:8080/"
        },
        "id": "P1p1R6vTZa8h",
        "outputId": "5997949f-bcf5-46ed-dcf1-660cbe823c51"
      },
      "execution_count": 11,
      "outputs": [
        {
          "output_type": "stream",
          "name": "stdout",
          "text": [
            "Value after drop duplicate id\n"
          ]
        },
        {
          "output_type": "execute_result",
          "data": {
            "text/plain": [
              "6993"
            ]
          },
          "metadata": {},
          "execution_count": 11
        }
      ]
    },
    {
      "cell_type": "markdown",
      "source": [
        "**Handling Missing value**"
      ],
      "metadata": {
        "id": "Xk2QD9NObKx5"
      }
    },
    {
      "cell_type": "markdown",
      "source": [
        "check missing value on column \"Churn\""
      ],
      "metadata": {
        "id": "xjba4C8GbfxX"
      }
    },
    {
      "cell_type": "code",
      "source": [
        "print(\"Total missing value on column Churn\", df['Churn'].isnull().sum())"
      ],
      "metadata": {
        "colab": {
          "base_uri": "https://localhost:8080/"
        },
        "id": "cyWUUqtob8C4",
        "outputId": "a6f88919-44fd-4f88-f1df-43e3b1a478f2"
      },
      "execution_count": 12,
      "outputs": [
        {
          "output_type": "stream",
          "name": "stdout",
          "text": [
            "Total missing value on coloumn Churn 43\n"
          ]
        }
      ]
    },
    {
      "cell_type": "code",
      "source": [
        "df.dropna(subset=['Churn'], inplace=True)\n",
        "\n",
        "print('Total rows and column after deleted missing value', df.shape)"
      ],
      "metadata": {
        "colab": {
          "base_uri": "https://localhost:8080/"
        },
        "id": "lcWeqHQIcLNA",
        "outputId": "92e33569-1b3d-4d8d-d3d0-0214c4b0cf76"
      },
      "execution_count": 13,
      "outputs": [
        {
          "output_type": "stream",
          "name": "stdout",
          "text": [
            "Total rows and coloumn after deleted missing value (6950, 22)\n"
          ]
        }
      ]
    },
    {
      "cell_type": "markdown",
      "source": [
        "Check missing value on others column"
      ],
      "metadata": {
        "id": "N3yZq0mVcwsy"
      }
    },
    {
      "cell_type": "code",
      "source": [
        "print(\"Status missing value:\", df.isnull().values.any())\n",
        "print(\"\\nTotal missing values on every column:\")\n",
        "print(df.isnull().sum().sort_values(ascending=False))"
      ],
      "metadata": {
        "colab": {
          "base_uri": "https://localhost:8080/"
        },
        "id": "lJ8Zsvdjc29P",
        "outputId": "d4deae8e-782c-4243-d810-e94c1d7b77e6"
      },
      "execution_count": 14,
      "outputs": [
        {
          "output_type": "stream",
          "name": "stdout",
          "text": [
            "Status missing value: True\n",
            "\n",
            "Total missing values on every coloumn:\n",
            "tenure              99\n",
            "MonthlyCharges      26\n",
            "TotalCharges        15\n",
            "UpdatedAt            0\n",
            "DeviceProtection     0\n",
            "PaymentMethod        0\n",
            "PaperlessBilling     0\n",
            "Contract             0\n",
            "StreamingMovies      0\n",
            "StreamingTV          0\n",
            "TechSupport          0\n",
            "OnlineBackup         0\n",
            "customerID           0\n",
            "OnlineSecurity       0\n",
            "InternetService      0\n",
            "MultipleLines        0\n",
            "PhoneService         0\n",
            "Dependents           0\n",
            "Partner              0\n",
            "SeniorCitizen        0\n",
            "gender               0\n",
            "Churn                0\n",
            "dtype: int64\n"
          ]
        }
      ]
    },
    {
      "cell_type": "markdown",
      "source": [
        "for column Tenure, every null value replaced by 11"
      ],
      "metadata": {
        "id": "9bieVKVTdf6b"
      }
    },
    {
      "cell_type": "code",
      "source": [
        "df['tenure'].fillna(11, inplace=True)"
      ],
      "metadata": {
        "id": "xinIXMn0dnid"
      },
      "execution_count": 15,
      "outputs": []
    },
    {
      "cell_type": "markdown",
      "source": [
        "Missing value on column MonthlyCharges and TotalCharges will be replace by median on that column"
      ],
      "metadata": {
        "id": "TqQF0COodul4"
      }
    },
    {
      "cell_type": "code",
      "source": [
        "for col_name in list(['MonthlyCharges', 'TotalCharges']):\n",
        "  median=df[col_name].median()\n",
        "  df[col_name].fillna(median, inplace=True)"
      ],
      "metadata": {
        "id": "UGHoA2jQeS9q"
      },
      "execution_count": 16,
      "outputs": []
    },
    {
      "cell_type": "code",
      "source": [
        "print(df.isnull().sum().sort_values(ascending=False))"
      ],
      "metadata": {
        "colab": {
          "base_uri": "https://localhost:8080/"
        },
        "id": "-thyQouEevNt",
        "outputId": "0369ffc6-8519-4c1d-f78a-929af7c6813a"
      },
      "execution_count": 17,
      "outputs": [
        {
          "output_type": "stream",
          "name": "stdout",
          "text": [
            "UpdatedAt           0\n",
            "customerID          0\n",
            "TotalCharges        0\n",
            "MonthlyCharges      0\n",
            "PaymentMethod       0\n",
            "PaperlessBilling    0\n",
            "Contract            0\n",
            "StreamingMovies     0\n",
            "StreamingTV         0\n",
            "TechSupport         0\n",
            "DeviceProtection    0\n",
            "OnlineBackup        0\n",
            "OnlineSecurity      0\n",
            "InternetService     0\n",
            "MultipleLines       0\n",
            "PhoneService        0\n",
            "tenure              0\n",
            "Dependents          0\n",
            "Partner             0\n",
            "SeniorCitizen       0\n",
            "gender              0\n",
            "Churn               0\n",
            "dtype: int64\n"
          ]
        }
      ]
    }
  ]
}